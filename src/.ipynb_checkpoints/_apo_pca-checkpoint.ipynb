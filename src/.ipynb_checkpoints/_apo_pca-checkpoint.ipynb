{
 "cells": [
  {
   "cell_type": "code",
   "execution_count": null,
   "metadata": {},
   "outputs": [],
   "source": [
    "using DataFrames, FileIO, DelimitedFiles\n",
    "using Plots, Optim, LsqFit\n",
    "using Chemfiles, HDF5, JUMD, LinearAlgebra, Statistics"
   ]
  },
  {
   "cell_type": "code",
   "execution_count": null,
   "metadata": {},
   "outputs": [],
   "source": [
    "# Get ready\n",
    "dir_apo_pca = string(\"/home/pbarletta/labo/20/cph_obp/run/apo/pca/\")\n",
    "dir_rtdos = string(\"/home/pbarletta/labo/20/cph_obp/rtdos_log\")\n",
    "\n",
    "nstlim = 19500\n",
    "aa = 113\n",
    "phs = collect(30:5:75)\n",
    "idx = collect(1:10)\n",
    "pdt_steps = collect(0:1:7)\n",
    "titrable_cnt = 36\n",
    "titrable_resis = [4, 5, 7, 11, 13, 18, 20, 24, 27, 30, 33, 37, 39,\n",
    "    40, 41, 42, 48, 52, 58, 59, 64, 69, 73, 77, 78, 82, 87, 93, 94,\n",
    "    97, 99, 102, 109, 111, 114, 117];\n",
    "titrable_resnames = [\"GL4\", \"GL4\", \"LYS\", \"HIP\", \"GL4\", \"LYS\", \"GL4\", \"AS4\", \"LYS\",\n",
    "    \"AS4\", \"GL4\", \"AS4\", \"GL4\", \"AS4\", \"LYS\", \"LYS\", \"GL4\", \"LYS\",\n",
    "    \"AS4\", \"LYS\", \"LYS\", \"LYS\", \"GL4\", \"AS4\", \"GL4\", \"LYS\", \"AS4\",\n",
    "    \"GL4\", \"GL4\", \"HIP\", \"LYS\", \"LYS\", \"LYS\", \"LYS\", \"LYS\", \"AS4\"];"
   ]
  },
  {
   "cell_type": "code",
   "execution_count": null,
   "metadata": {},
   "outputs": [],
   "source": [
    "function diff_trj_avg(in_avg_filename::AbstractString, in_trj_filename::AbstractString,\n",
    "        mask::Array{Int64, 1})\n",
    "    in_avg_trj = Trajectory(in_avg_filename)\n",
    "    in_avg_frm = read(in_avg_trj)\n",
    "    in_avg_top = Topology(in_avg_frm)\n",
    "    orig_aa = convert(Int64, count_residues(in_avg_top))\n",
    "\n",
    "    # Get indices de CA\n",
    "    orig_cas_idx = Array{Int64, 1}(undef, orig_aa)\n",
    "    k = 0\n",
    "    for i = 0:convert(Int64, size(in_avg_top)-1)\n",
    "        if Chemfiles.name(Atom(in_avg_frm, i)) == \"CA\"\n",
    "            k+=1\n",
    "            orig_cas_idx[k] = i + 1\n",
    "        end\n",
    "    end\n",
    "    cas_idx = orig_cas_idx[mask]\n",
    "    aa = length(cas_idx)\n",
    "    aa_3 = aa * 3\n",
    "    # Estas son las coordenadas q voy a usar p/ restar\n",
    "    avg_xyz = positions(in_avg_frm)[:, cas_idx];\n",
    "\n",
    "    # Preparo\n",
    "    in_trj = Trajectory(in_trj_filename)\n",
    "    nframes = convert(Int64, length(in_trj))\n",
    "    close(in_trj)\n",
    "    diff_pdb = Array{Float64, 2}(undef, aa_3, nframes)\n",
    "    vec_nframes = convert(Array{Int64}, collect(0:nframes/10:nframes));\n",
    "\n",
    "    # Ahora obtengo las proyecciones\n",
    "    for j = 1:length(vec_nframes)-1\n",
    "        in_trj = Trajectory(in_trj_filename)\n",
    "        for i = vec_nframes[j]:vec_nframes[j+1]-1\n",
    "            diff_pdb[:, i+1] =\n",
    "                reshape(positions(read_step(in_trj, i))[:, cas_idx] .- avg_xyz, aa_3)\n",
    "        end\n",
    "        close(in_trj)\n",
    "        println(j)\n",
    "        GC.gc()\n",
    "    end\n",
    "\n",
    "    return diff_pdb\n",
    "end"
   ]
  },
  {
   "cell_type": "code",
   "execution_count": null,
   "metadata": {},
   "outputs": [],
   "source": [
    "# Esto lo hago una sola vez. Luego leo el rtdo.\n",
    "for i in 1:10\n",
    "    println(\"---- \", idx[i], \" , \", phs[i], \"---- \")\n",
    "    dif_idx = diff_trj_avg(joinpath(dir_apo_pca, string(idx[i]), string(\"avg_apo_\", idx[i], \".pdb\")),\n",
    "        joinpath(dir_apo_pca, string(idx[i]), string(\"full_avgfit_apo_\", idx[i], \".nc\")),\n",
    "        collect(3:115))\n",
    "\n",
    "    fid_idx = h5open(joinpath(dir_rtdos, string(\"diff_apo_\", idx[i], \".h5\")), \"w\")\n",
    "    write(fid_idx, \"dif\", dif_idx)\n",
    "    close(fid_idx)\n",
    "    \n",
    "    dif_phs = diff_trj_avg(joinpath(dir_apo_pca, string(phs[i], \"ph\"), string(\"avg_apo_\", phs[i], \".pdb\")),\n",
    "        joinpath(dir_apo_pca, string(phs[i], \"ph\"), string(\"full_avgfit_apo_\", phs[i], \".nc\")),\n",
    "        collect(3:115))\n",
    "\n",
    "    fid_phs = h5open(joinpath(dir_rtdos, string(\"diff_apo_\", phs[i], \".h5\")), \"w\")\n",
    "    write(fid_phs, \"dif\", dif_phs)\n",
    "    close(fid_phs)\n",
    "end"
   ]
  },
  {
   "cell_type": "code",
   "execution_count": null,
   "metadata": {},
   "outputs": [],
   "source": [
    "for i in 1:10\n",
    "    # Leo modos\n",
    "    modes_idx, evals_idx = JUMD.readPtrajModes(\n",
    "        joinpath(dir_apo_pca, string(idx[i]), string(\"modes_apo_\", idx[i])))\n",
    "    modes_phs, evals_phs = JUMD.readPtrajModes(\n",
    "        joinpath(dir_apo_pca, string(phs[i], \"ph\"), string(\"modes_apo_\", phs[i])))\n",
    "\n",
    "    # Leo vectores diferencia entre el avg y los frames\n",
    "    dif_idx = h5read(joinpath(dir_rtdos, string(\"diff_apo_\", idx[i], \".h5\")), \"dif\")\n",
    "    norm_dif_idx = mapslices(x -> x ./ norm(x), dif_idx, dims = 1)\n",
    "    \n",
    "    dif_phs = h5read(joinpath(dir_rtdos, string(\"diff_apo_\", phs[i], \".h5\")), \"dif\")\n",
    "    norm_dif_phs = mapslices(x -> x ./ norm(x), dif_phs, dims = 1)\n",
    "    \n",
    "    nframes = size(dif_idx)[2]\n",
    "\n",
    "    # Hago las proyecciones\n",
    "    prj_1_idx = Array{Float64, 1}(undef, nframes)\n",
    "    prj_2_idx = Array{Float64, 1}(undef, nframes)\n",
    "    prj_3_idx = Array{Float64, 1}(undef, nframes)\n",
    "    prj_1_phs = Array{Float64, 1}(undef, nframes)\n",
    "    prj_2_phs = Array{Float64, 1}(undef, nframes)\n",
    "    prj_3_phs = Array{Float64, 1}(undef, nframes)\n",
    "    \n",
    "    for i = 1:nframes\n",
    "        prj_1_idx[i] = dot(norm_dif_idx[:, i], modes_idx[:, 1])\n",
    "        prj_2_idx[i] = dot(norm_dif_idx[:, i], modes_idx[:, 2])\n",
    "        prj_3_idx[i] = dot(norm_dif_idx[:, i], modes_idx[:, 3])\n",
    "        \n",
    "        prj_1_phs[i] = dot(norm_dif_phs[:, i], modes_phs[:, 1])\n",
    "        prj_2_phs[i] = dot(norm_dif_phs[:, i], modes_phs[:, 2])\n",
    "        prj_3_phs[i] = dot(norm_dif_phs[:, i], modes_phs[:, 3])\n",
    "    end\n",
    "\n",
    "    # Smooth\n",
    "    global smooth_prj_1_idx = [ mean(prj_1_idx[i:i+9]) for i = 1:10:length(prj_1_idx)-9 ]\n",
    "    global smooth_prj_2_idx = [ mean(prj_2_idx[i:i+9]) for i = 1:10:length(prj_2_idx)-9 ]\n",
    "    global smooth_prj_3_idx = [ mean(prj_3_idx[i:i+9]) for i = 1:10:length(prj_3_idx)-9 ]\n",
    "\n",
    "    global smooth_prj_1_phs = [ mean(prj_1_phs[i:i+9]) for i = 1:10:length(prj_1_phs)-9 ]\n",
    "    global smooth_prj_2_phs = [ mean(prj_2_phs[i:i+9]) for i = 1:10:length(prj_2_phs)-9 ]\n",
    "    global smooth_prj_3_phs = [ mean(prj_3_phs[i:i+9]) for i = 1:10:length(prj_3_phs)-9 ]\n",
    "\n",
    "    sym_smooth_prj_1_apo_idx = Symbol(\"smooth_prj_1_\", idx[i], \"_idx\")\n",
    "    sym_smooth_prj_2_apo_idx = Symbol(\"smooth_prj_2_\", idx[i], \"_idx\")\n",
    "    sym_smooth_prj_3_apo_idx = Symbol(\"smooth_prj_3_\", idx[i], \"_idx\")\n",
    "    sym_smooth_prj_1_apo_phs = Symbol(\"smooth_prj_1_\", phs[i], \"_phs\")\n",
    "    sym_smooth_prj_2_apo_phs = Symbol(\"smooth_prj_2_\", phs[i], \"_phs\")\n",
    "    sym_smooth_prj_3_apo_phs = Symbol(\"smooth_prj_3_\", phs[i], \"_phs\")\n",
    "    eval(:($sym_smooth_prj_1_apo_idx = smooth_prj_1_idx))\n",
    "    eval(:($sym_smooth_prj_2_apo_idx = smooth_prj_2_idx))\n",
    "    eval(:($sym_smooth_prj_3_apo_idx = smooth_prj_3_idx))\n",
    "    eval(:($sym_smooth_prj_1_apo_phs = smooth_prj_1_phs))\n",
    "    eval(:($sym_smooth_prj_2_apo_phs = smooth_prj_2_phs))\n",
    "    eval(:($sym_smooth_prj_3_apo_phs = smooth_prj_3_phs)) \n",
    "end"
   ]
  },
  {
   "cell_type": "markdown",
   "metadata": {},
   "source": [
    "## PCA por pH"
   ]
  },
  {
   "cell_type": "code",
   "execution_count": null,
   "metadata": {},
   "outputs": [],
   "source": [
    "plt_prj_1_2_30_phs = histogram2d(smooth_prj_1_30_phs, smooth_prj_2_30_phs, \n",
    "        title = string(\"PCA projections - pH = \", 30),\n",
    "        xlims = (-1, 1), ylims = (-1, 1),\n",
    "        xticks = [-.9 ; -.5 ; 0. ;.5 ; .9], yticks = [-.9 ; -.5 ; 0. ;.5 ; .9],\n",
    "        yaxis = \"PCA 2\", xaxis = \"PCA 1\",\n",
    "        colorbar_title = \"Frame count\",\n",
    "        guidefont = font(22, \"Arial\"), tickfont = font(16, \"Arial\"),\n",
    "        legendfont = font(16, \"Arial\"), #clims = (0, 15),\n",
    "        nbins = 120, seriescolor = :blues, grid = false)"
   ]
  },
  {
   "cell_type": "code",
   "execution_count": null,
   "metadata": {},
   "outputs": [],
   "source": [
    "plt_prj_1_2_35_phs = histogram2d(smooth_prj_1_35_phs, smooth_prj_2_35_phs, \n",
    "        title = string(\"PCA projections - pH = \", 35),\n",
    "        xlims = (-1, 1), ylims = (-1, 1),\n",
    "        xticks = [-.9 ; -.5 ; 0. ;.5 ; .9], yticks = [-.9 ; -.5 ; 0. ;.5 ; .9],\n",
    "        yaxis = \"PCA 2\", xaxis = \"PCA 1\",\n",
    "        colorbar_title = \"Frame count\",\n",
    "        guidefont = font(22, \"Arial\"), tickfont = font(16, \"Arial\"),\n",
    "        legendfont = font(16, \"Arial\"), #clims = (0, 15),\n",
    "        nbins = 120, seriescolor = :blues, grid = false)"
   ]
  },
  {
   "cell_type": "code",
   "execution_count": null,
   "metadata": {},
   "outputs": [],
   "source": [
    "plt_prj_1_2_40_phs = histogram2d(smooth_prj_1_40_phs, smooth_prj_2_40_phs, \n",
    "        title = string(\"PCA projections - pH = \", 40),\n",
    "        xlims = (-1, 1), ylims = (-1, 1),\n",
    "        xticks = [-.9 ; -.5 ; 0. ;.5 ; .9], yticks = [-.9 ; -.5 ; 0. ;.5 ; .9],\n",
    "        yaxis = \"PCA 2\", xaxis = \"PCA 1\",\n",
    "        colorbar_title = \"Frame count\",\n",
    "        guidefont = font(22, \"Arial\"), tickfont = font(16, \"Arial\"),\n",
    "        legendfont = font(16, \"Arial\"), #clims = (0, 15),\n",
    "        nbins = 120, seriescolor = :blues, grid = false)"
   ]
  },
  {
   "cell_type": "code",
   "execution_count": null,
   "metadata": {},
   "outputs": [],
   "source": [
    "plt_prj_1_2_45_phs = histogram2d(smooth_prj_1_45_phs, smooth_prj_2_45_phs, \n",
    "        title = string(\"PCA projections - pH = \", 45),\n",
    "        xlims = (-1, 1), ylims = (-1, 1),\n",
    "        xticks = [-.9 ; -.5 ; 0. ;.5 ; .9], yticks = [-.9 ; -.5 ; 0. ;.5 ; .9],\n",
    "        yaxis = \"PCA 2\", xaxis = \"PCA 1\",\n",
    "        colorbar_title = \"Frame count\",\n",
    "        guidefont = font(22, \"Arial\"), tickfont = font(16, \"Arial\"),\n",
    "        legendfont = font(16, \"Arial\"), #clims = (0, 15),\n",
    "        nbins = 120, seriescolor = :blues, grid = false)"
   ]
  },
  {
   "cell_type": "code",
   "execution_count": null,
   "metadata": {},
   "outputs": [],
   "source": [
    "plt_prj_1_2_50_phs = histogram2d(smooth_prj_1_50_phs, smooth_prj_2_50_phs, \n",
    "        title = string(\"PCA projections - pH = \", 50),\n",
    "        xlims = (-1, 1), ylims = (-1, 1),\n",
    "        xticks = [-.9 ; -.5 ; 0. ;.5 ; .9], yticks = [-.9 ; -.5 ; 0. ;.5 ; .9],\n",
    "        yaxis = \"PCA 2\", xaxis = \"PCA 1\",\n",
    "        colorbar_title = \"Frame count\",\n",
    "        guidefont = font(22, \"Arial\"), tickfont = font(16, \"Arial\"),\n",
    "        legendfont = font(16, \"Arial\"), #clims = (0, 15),\n",
    "        nbins = 120, seriescolor = :blues, grid = false)"
   ]
  },
  {
   "cell_type": "code",
   "execution_count": null,
   "metadata": {},
   "outputs": [],
   "source": [
    "plt_prj_1_2_55_phs = histogram2d(smooth_prj_1_55_phs, smooth_prj_2_55_phs, \n",
    "        title = string(\"PCA projections - pH = \", 55),\n",
    "        xlims = (-1, 1), ylims = (-1, 1),\n",
    "        xticks = [-.9 ; -.5 ; 0. ;.5 ; .9], yticks = [-.9 ; -.5 ; 0. ;.5 ; .9],\n",
    "        yaxis = \"PCA 2\", xaxis = \"PCA 1\",\n",
    "        colorbar_title = \"Frame count\",\n",
    "        guidefont = font(22, \"Arial\"), tickfont = font(16, \"Arial\"),\n",
    "        legendfont = font(16, \"Arial\"), #clims = (0, 15),\n",
    "        nbins = 120, seriescolor = :blues, grid = false)"
   ]
  },
  {
   "cell_type": "code",
   "execution_count": null,
   "metadata": {},
   "outputs": [],
   "source": [
    "plt_prj_1_2_60_phs = histogram2d(smooth_prj_1_60_phs, smooth_prj_2_60_phs, \n",
    "        title = string(\"PCA projections - pH = \", 60),\n",
    "        xlims = (-1, 1), ylims = (-1, 1),\n",
    "        xticks = [-.9 ; -.5 ; 0. ;.5 ; .9], yticks = [-.9 ; -.5 ; 0. ;.5 ; .9],\n",
    "        yaxis = \"PCA 2\", xaxis = \"PCA 1\",\n",
    "        colorbar_title = \"Frame count\",\n",
    "        guidefont = font(22, \"Arial\"), tickfont = font(16, \"Arial\"),\n",
    "        legendfont = font(16, \"Arial\"), #clims = (0, 15),\n",
    "        nbins = 120, seriescolor = :blues, grid = false)"
   ]
  },
  {
   "cell_type": "code",
   "execution_count": null,
   "metadata": {},
   "outputs": [],
   "source": [
    "plt_prj_1_2_65_phs = histogram2d(smooth_prj_1_65_phs, smooth_prj_2_65_phs, \n",
    "        title = string(\"PCA projections - pH = \", 65),\n",
    "        xlims = (-1, 1), ylims = (-1, 1),\n",
    "        xticks = [-.9 ; -.5 ; 0. ;.5 ; .9], yticks = [-.9 ; -.5 ; 0. ;.5 ; .9],\n",
    "        yaxis = \"PCA 2\", xaxis = \"PCA 1\",\n",
    "        colorbar_title = \"Frame count\",\n",
    "        guidefont = font(22, \"Arial\"), tickfont = font(16, \"Arial\"),\n",
    "        legendfont = font(16, \"Arial\"), #clims = (0, 15),\n",
    "        nbins = 120, seriescolor = :blues, grid = false)"
   ]
  },
  {
   "cell_type": "code",
   "execution_count": null,
   "metadata": {},
   "outputs": [],
   "source": [
    "plt_prj_1_2_70_phs = histogram2d(smooth_prj_1_70_phs, smooth_prj_2_70_phs, \n",
    "        title = string(\"PCA projections - pH = \", 70),\n",
    "        xlims = (-1, 1), ylims = (-1, 1),\n",
    "        xticks = [-.9 ; -.5 ; 0. ;.5 ; .9], yticks = [-.9 ; -.5 ; 0. ;.5 ; .9],\n",
    "        yaxis = \"PCA 2\", xaxis = \"PCA 1\",\n",
    "        colorbar_title = \"Frame count\",\n",
    "        guidefont = font(22, \"Arial\"), tickfont = font(16, \"Arial\"),\n",
    "        legendfont = font(16, \"Arial\"), #clims = (0, 15),\n",
    "        nbins = 120, seriescolor = :blues, grid = false)"
   ]
  },
  {
   "cell_type": "code",
   "execution_count": null,
   "metadata": {},
   "outputs": [],
   "source": [
    "plt_prj_1_2_75_phs = histogram2d(smooth_prj_1_75_phs, smooth_prj_2_75_phs, \n",
    "        title = string(\"PCA projections - pH = \", 75),\n",
    "        xlims = (-1, 1), ylims = (-1, 1),\n",
    "        xticks = [-.9 ; -.5 ; 0. ;.5 ; .9], yticks = [-.9 ; -.5 ; 0. ;.5 ; .9],\n",
    "        yaxis = \"PCA 2\", xaxis = \"PCA 1\",\n",
    "        colorbar_title = \"Frame count\",\n",
    "        guidefont = font(22, \"Arial\"), tickfont = font(16, \"Arial\"),\n",
    "        legendfont = font(16, \"Arial\"), #clims = (0, 15),\n",
    "        nbins = 120, seriescolor = :blues, grid = false)"
   ]
  },
  {
   "cell_type": "markdown",
   "metadata": {},
   "source": [
    "## PCA por idx"
   ]
  },
  {
   "cell_type": "code",
   "execution_count": null,
   "metadata": {},
   "outputs": [],
   "source": [
    "plt_prj_1_2_1_idx = histogram2d(smooth_prj_1_1_idx, smooth_prj_2_1_idx, \n",
    "        title = string(\"PCA projections - idx = \", 1),\n",
    "        xlims = (-1, 1), ylims = (-1, 1),\n",
    "        xticks = [-.9 ; -.5 ; 0. ;.5 ; .9], yticks = [-.9 ; -.5 ; 0. ;.5 ; .9],\n",
    "        yaxis = \"PCA 2\", xaxis = \"PCA 1\",\n",
    "        colorbar_title = \"Frame count\",\n",
    "        guidefont = font(22, \"Arial\"), tickfont = font(16, \"Arial\"),\n",
    "        legendfont = font(16, \"Arial\"), #clims = (0, 15),\n",
    "        nbins = 120, seriescolor = :blues, grid = false)"
   ]
  },
  {
   "cell_type": "code",
   "execution_count": null,
   "metadata": {},
   "outputs": [],
   "source": [
    "plt_prj_1_2_2_idx = histogram2d(smooth_prj_1_2_idx, smooth_prj_2_2_idx, \n",
    "        title = string(\"PCA projections - idx = \", 2),\n",
    "        xlims = (-1, 1), ylims = (-1, 1),\n",
    "        xticks = [-.9 ; -.5 ; 0. ;.5 ; .9], yticks = [-.9 ; -.5 ; 0. ;.5 ; .9],\n",
    "        yaxis = \"PCA 2\", xaxis = \"PCA 1\",\n",
    "        colorbar_title = \"Frame count\",\n",
    "        guidefont = font(22, \"Arial\"), tickfont = font(16, \"Arial\"),\n",
    "        legendfont = font(16, \"Arial\"), #clims = (0, 15),\n",
    "        nbins = 120, seriescolor = :blues, grid = false)"
   ]
  },
  {
   "cell_type": "code",
   "execution_count": null,
   "metadata": {},
   "outputs": [],
   "source": [
    "plt_prj_1_2_3_idx = histogram2d(smooth_prj_1_3_idx, smooth_prj_2_3_idx, \n",
    "        title = string(\"PCA projections - idx = \", 3),\n",
    "        xlims = (-1, 1), ylims = (-1, 1),\n",
    "        xticks = [-.9 ; -.5 ; 0. ;.5 ; .9], yticks = [-.9 ; -.5 ; 0. ;.5 ; .9],\n",
    "        yaxis = \"PCA 2\", xaxis = \"PCA 1\",\n",
    "        colorbar_title = \"Frame count\",\n",
    "        guidefont = font(22, \"Arial\"), tickfont = font(16, \"Arial\"),\n",
    "        legendfont = font(16, \"Arial\"), #clims = (0, 15),\n",
    "        nbins = 120, seriescolor = :blues, grid = false)"
   ]
  },
  {
   "cell_type": "code",
   "execution_count": null,
   "metadata": {},
   "outputs": [],
   "source": [
    "plt_prj_1_2_4_idx = histogram2d(smooth_prj_1_4_idx, smooth_prj_2_4_idx, \n",
    "        title = string(\"PCA projections - idx = \", 4),\n",
    "        xlims = (-1, 1), ylims = (-1, 1),\n",
    "        xticks = [-.9 ; -.5 ; 0. ;.5 ; .9], yticks = [-.9 ; -.5 ; 0. ;.5 ; .9],\n",
    "        yaxis = \"PCA 2\", xaxis = \"PCA 1\",\n",
    "        colorbar_title = \"Frame count\",\n",
    "        guidefont = font(22, \"Arial\"), tickfont = font(16, \"Arial\"),\n",
    "        legendfont = font(16, \"Arial\"), #clims = (0, 15),\n",
    "        nbins = 120, seriescolor = :blues, grid = false)"
   ]
  },
  {
   "cell_type": "code",
   "execution_count": null,
   "metadata": {},
   "outputs": [],
   "source": [
    "plt_prj_1_2_5_idx = histogram2d(smooth_prj_1_5_idx, smooth_prj_2_5_idx, \n",
    "        title = string(\"PCA projections - idx = \", 5),\n",
    "        xlims = (-1, 1), ylims = (-1, 1),\n",
    "        xticks = [-.9 ; -.5 ; 0. ;.5 ; .9], yticks = [-.9 ; -.5 ; 0. ;.5 ; .9],\n",
    "        yaxis = \"PCA 2\", xaxis = \"PCA 1\",\n",
    "        colorbar_title = \"Frame count\",\n",
    "        guidefont = font(22, \"Arial\"), tickfont = font(16, \"Arial\"),\n",
    "        legendfont = font(16, \"Arial\"), #clims = (0, 15),\n",
    "        nbins = 120, seriescolor = :blues, grid = false)"
   ]
  },
  {
   "cell_type": "code",
   "execution_count": null,
   "metadata": {},
   "outputs": [],
   "source": [
    "plt_prj_1_2_6_idx = histogram2d(smooth_prj_1_6_idx, smooth_prj_2_6_idx, \n",
    "        title = string(\"PCA projections - idx = \", 6),\n",
    "        xlims = (-1, 1), ylims = (-1, 1),\n",
    "        xticks = [-.9 ; -.5 ; 0. ;.5 ; .9], yticks = [-.9 ; -.5 ; 0. ;.5 ; .9],\n",
    "        yaxis = \"PCA 2\", xaxis = \"PCA 1\",\n",
    "        colorbar_title = \"Frame count\",\n",
    "        guidefont = font(22, \"Arial\"), tickfont = font(16, \"Arial\"),\n",
    "        legendfont = font(16, \"Arial\"), #clims = (0, 15),\n",
    "        nbins = 120, seriescolor = :blues, grid = false)"
   ]
  },
  {
   "cell_type": "code",
   "execution_count": null,
   "metadata": {},
   "outputs": [],
   "source": [
    "plt_prj_1_2_7_idx = histogram2d(smooth_prj_1_7_idx, smooth_prj_2_7_idx, \n",
    "        title = string(\"PCA projections - idx = \", 7),\n",
    "        xlims = (-1, 1), ylims = (-1, 1),\n",
    "        xticks = [-.9 ; -.5 ; 0. ;.5 ; .9], yticks = [-.9 ; -.5 ; 0. ;.5 ; .9],\n",
    "        yaxis = \"PCA 2\", xaxis = \"PCA 1\",\n",
    "        colorbar_title = \"Frame count\",\n",
    "        guidefont = font(22, \"Arial\"), tickfont = font(16, \"Arial\"),\n",
    "        legendfont = font(16, \"Arial\"), #clims = (0, 15),\n",
    "        nbins = 120, seriescolor = :blues, grid = false)"
   ]
  },
  {
   "cell_type": "code",
   "execution_count": null,
   "metadata": {},
   "outputs": [],
   "source": [
    "plt_prj_1_2_8_idx = histogram2d(smooth_prj_1_8_idx, smooth_prj_2_8_idx, \n",
    "        title = string(\"PCA projections - idx = \", 8),\n",
    "        xlims = (-1, 1), ylims = (-1, 1),\n",
    "        xticks = [-.9 ; -.5 ; 0. ;.5 ; .9], yticks = [-.9 ; -.5 ; 0. ;.5 ; .9],\n",
    "        yaxis = \"PCA 2\", xaxis = \"PCA 1\",\n",
    "        colorbar_title = \"Frame count\",\n",
    "        guidefont = font(22, \"Arial\"), tickfont = font(16, \"Arial\"),\n",
    "        legendfont = font(16, \"Arial\"), #clims = (0, 15),\n",
    "        nbins = 120, seriescolor = :blues, grid = false)"
   ]
  },
  {
   "cell_type": "code",
   "execution_count": null,
   "metadata": {},
   "outputs": [],
   "source": [
    "plt_prj_1_2_9_idx = histogram2d(smooth_prj_1_9_idx, smooth_prj_2_9_idx, \n",
    "        title = string(\"PCA projections - idx = \", 9),\n",
    "        xlims = (-1, 1), ylims = (-1, 1),\n",
    "        xticks = [-.9 ; -.5 ; 0. ;.5 ; .9], yticks = [-.9 ; -.5 ; 0. ;.5 ; .9],\n",
    "        yaxis = \"PCA 2\", xaxis = \"PCA 1\",\n",
    "        colorbar_title = \"Frame count\",\n",
    "        guidefont = font(22, \"Arial\"), tickfont = font(16, \"Arial\"),\n",
    "        legendfont = font(16, \"Arial\"), #clims = (0, 15),\n",
    "        nbins = 120, seriescolor = :blues, grid = false)"
   ]
  },
  {
   "cell_type": "code",
   "execution_count": null,
   "metadata": {},
   "outputs": [],
   "source": [
    "plt_prj_1_2_10_idx = histogram2d(smooth_prj_1_10_idx, smooth_prj_2_10_idx, \n",
    "        title = string(\"PCA projections - idx = \", 10),\n",
    "        xlims = (-1, 1), ylims = (-1, 1),\n",
    "        xticks = [-.9 ; -.5 ; 0. ;.5 ; .9], yticks = [-.9 ; -.5 ; 0. ;.5 ; .9],\n",
    "        yaxis = \"PCA 2\", xaxis = \"PCA 1\",\n",
    "        colorbar_title = \"Frame count\",\n",
    "        guidefont = font(22, \"Arial\"), tickfont = font(16, \"Arial\"),\n",
    "        legendfont = font(16, \"Arial\"), #clims = (0, 15),\n",
    "        nbins = 120, seriescolor = :blues, grid = false)"
   ]
  }
 ],
 "metadata": {
  "kernelspec": {
   "display_name": "Julia 1.5.0",
   "language": "julia",
   "name": "julia-1.5"
  }
 },
 "nbformat": 4,
 "nbformat_minor": 4
}

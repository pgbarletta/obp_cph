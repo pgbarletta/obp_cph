{
 "cells": [
  {
   "cell_type": "code",
   "execution_count": null,
   "metadata": {},
   "outputs": [],
   "source": [
    "using DataFrames, FileIO, DelimitedFiles\n",
    "using Plots, Optim, LsqFit"
   ]
  },
  {
   "cell_type": "code",
   "execution_count": null,
   "metadata": {},
   "outputs": [],
   "source": [
    "function read_pop_file(filename, resnames)\n",
    "    deprotonated_fraction =  Array{Float64, 1}(undef, length(resnames))\n",
    "    pop_file = readdlm(filename, header = true)[1][2:end, 2:end]\n",
    "\n",
    "    k = 0\n",
    "    for resname in resnames\n",
    "        k+=1\n",
    "        if resname == \"GL4\"\n",
    "            deprotonated_fraction[k] = pop_file[k, 3:end][1]\n",
    "        elseif resname == \"AS4\"\n",
    "            deprotonated_fraction[k] = pop_file[k, 3:end][1]\n",
    "        elseif resname == \"HIP\"\n",
    "            deprotonated_fraction[k] = 1 - pop_file[k, 3:end][1]\n",
    "        elseif resname == \"LYS\"\n",
    "            deprotonated_fraction[k] = 1 - pop_file[k, 3:end][1]\n",
    "        elseif resname == \"CYX\"\n",
    "            deprotonated_fraction[k] = 1 - pop_file[k, 3:end][1]\n",
    "        elseif resname == \"TYR\"\n",
    "            deprotonated_fraction[k] = 1 - pop_file[k, 3:end][1]\n",
    "        end\n",
    "    end\n",
    "    \n",
    "    return deprotonated_fraction\n",
    "end"
   ]
  },
  {
   "cell_type": "code",
   "execution_count": null,
   "metadata": {},
   "outputs": [],
   "source": [
    "# Get ready\n",
    "home = \"/home/pbarletta/labo/20/cph_obp/\"\n",
    "apo_cph_out = string(home, \"run/apo/pdt/cph_outputs/\")\n",
    "apo_cph_pre_out = string(home, \"run/apo/pre_pdt/cph_outputs/\")\n",
    "\n",
    "phs = collect(30:5:75)\n",
    "pdt_steps = collect(0:1:7)\n",
    "suffix_pka_file = \"_pka\"\n",
    "suffix_pop_file = \"_pop\"\n",
    "titrable_cnt = 36\n",
    "titrable_resis = [4, 5, 7, 11, 13, 18, 20, 24, 27, 30, 33, 37, 39,\n",
    "    40, 41, 42, 48, 52, 58, 59, 64, 69, 73, 77, 78, 82, 87, 93, 94,\n",
    "    97, 99, 102, 109, 111, 114, 117];\n",
    "titrable_resnames = [\"GL4\", \"GL4\", \"LYS\", \"HIP\", \"GL4\", \"LYS\", \"GL4\", \"AS4\", \"LYS\",\n",
    "    \"AS4\", \"GL4\", \"AS4\", \"GL4\", \"AS4\", \"LYS\", \"LYS\", \"GL4\", \"LYS\",\n",
    "    \"AS4\", \"LYS\", \"LYS\", \"LYS\", \"GL4\", \"AS4\", \"GL4\", \"LYS\", \"AS4\",\n",
    "    \"GL4\", \"GL4\", \"HIP\", \"LYS\", \"LYS\", \"LYS\", \"LYS\", \"LYS\", \"AS4\"]\n",
    "global const def_pka_as4 = 3.71\n",
    "global const def_pka_gl4 = 4.15\n",
    "global const def_pka_lys = 10.67\n",
    "global const def_pka_hip = 6.04;\n",
    "# global const def_pka_cyx = 8.14;\n",
    "# global const def_pka_tyr = 10.1;"
   ]
  },
  {
   "cell_type": "code",
   "execution_count": null,
   "metadata": {},
   "outputs": [],
   "source": [
    "def_res_pka = Array{Float64, 1}(undef, titrable_cnt)\n",
    "\n",
    "for i in 1:titrable_cnt\n",
    "    if titrable_resnames[i] == \"AS4\"\n",
    "        def_res_pka[i] = def_pka_as4\n",
    "    elseif titrable_resnames[i] == \"GL4\"\n",
    "        def_res_pka[i] = def_pka_gl4\n",
    "    elseif titrable_resnames[i] == \"LYS\"\n",
    "        def_res_pka[i] = def_pka_lys\n",
    "    elseif titrable_resnames[i] == \"HIP\"\n",
    "        def_res_pka[i] = def_pka_hip\n",
    "    end\n",
    "end"
   ]
  },
  {
   "cell_type": "markdown",
   "metadata": {},
   "source": [
    "## Leo los \\_pop files de todas las corridas"
   ]
  },
  {
   "cell_type": "code",
   "execution_count": null,
   "metadata": {},
   "outputs": [],
   "source": [
    "# Obtengo las poblaciones deprotonadas de c/ residuo a c/ valor de pH\n",
    "# Leo el State 0 de c/ residuo. P/ lods residuos ácidos (GL4, AS4)\n",
    "# el state 0 es deprotonado, p/ los básicos es protonado.\n",
    "# Usaré estas poblaciones p/ ajustar la curva de Hill y obtener el valor de pKa.\n",
    "deprotonated_fraction =  Array{Float64, 2}(undef, titrable_cnt, length(phs))\n",
    "for i in 1:length(phs)\n",
    "    pop_filename = joinpath(apo_cph_out, \"p\", string(phs[i], suffix_pop_file))\n",
    "    deprotonated_fraction[:, i] = read_pop_file(pop_filename, titrable_resnames)\n",
    "end"
   ]
  },
  {
   "cell_type": "markdown",
   "metadata": {},
   "source": [
    "## Leo los \\_pka files, sólo de pre_pdt"
   ]
  },
  {
   "cell_type": "code",
   "execution_count": null,
   "metadata": {},
   "outputs": [],
   "source": [
    "# P/ ajustar bien la curva de Hill y obtener los parámetros n y pKa conviene\n",
    "# empezar con unos buenos parámetros iniciales. P/ n eso es 1.0 y p/ pKa será\n",
    "# el valor de pKa predicho durante la corrida con menor Offset. Por eso leo\n",
    "# estos archivos de _pka, p/ obtener los pka predichos y sólo usar el q venga\n",
    "# con de la corrida con menor offset. Cualquier cosa: ver papers de Swails.\n",
    "\n",
    "res_offset_all = Array{Float64, 2}(undef, titrable_cnt, length(phs))\n",
    "res_pka_pred_all = Array{Float64, 2}(undef, titrable_cnt, length(phs))\n",
    "res_pka_pred =  Array{Float64, 1}(undef, titrable_cnt)\n",
    "\n",
    "for i = 1:length(phs)\n",
    "    pka_file = readdlm(string(apo_cph_pre_out, phs[i], suffix_pka_file),\n",
    "        header = true)[1][1:end-1, 1:end-1]    \n",
    "    res_offset_all[:, i] = pka_file[:, 5]\n",
    "    res_pka_pred_all[:, i] = pka_file[:, 7]\n",
    "end\n",
    "\n",
    "for i = 1:titrable_cnt\n",
    "    min_offset_idx = findmin(abs.(res_offset_all[i, :]))[2]\n",
    "    res_pka_pred[i] = res_pka_pred_all[i, min_offset_idx]\n",
    "end"
   ]
  },
  {
   "cell_type": "markdown",
   "metadata": {},
   "source": [
    "## Determino Hill coefficients and pKas"
   ]
  },
  {
   "cell_type": "code",
   "execution_count": null,
   "metadata": {},
   "outputs": [],
   "source": [
    "# Hill coefficient and pKa for each residue \n",
    "res_pka =  Array{Float64, 1}(undef, titrable_cnt)\n",
    "res_hil =  Array{Float64, 1}(undef, titrable_cnt)\n",
    "\n",
    "# Hill function\n",
    "@. f(x, hill_coef) = 1 / (1 + 10 ^(hill_coef[1]*(hill_coef[2] - x)) )\n",
    "xdata = phs ./ 10\n",
    "\n",
    "# Fit the curves\n",
    "for i = 1:titrable_cnt\n",
    "    hill_coef = [1. ; res_pka_pred[i]]\n",
    "    fit = curve_fit(f, xdata, deprotonated_fraction[i, :], hill_coef)    \n",
    "    res_hil[i] = fit.param[1]\n",
    "    res_pka[i] = fit.param[2]\n",
    "end\n",
    "\n",
    "# Guardo los pkas obtenidos\n",
    "writedlm(joinpath(home, \"rtdos_log\", \"pka_apo\"), [titrable_resnames titrable_resis res_pka res_hil])"
   ]
  },
  {
   "cell_type": "markdown",
   "metadata": {},
   "source": [
    "## Diferencias entre pka calculado y default"
   ]
  },
  {
   "cell_type": "code",
   "execution_count": null,
   "metadata": {},
   "outputs": [],
   "source": [
    "not_lys = titrable_resnames .!= \"LYS\"\n",
    "etiquetas = string.(titrable_resnames[not_lys], \" \", titrable_resis[not_lys])\n",
    "dif_res_pka = map(-, res_pka, def_res_pka);"
   ]
  },
  {
   "cell_type": "code",
   "execution_count": null,
   "metadata": {},
   "outputs": [],
   "source": [
    "bar(etiquetas[1:10], dif_res_pka[not_lys][1:10], label = :none,\n",
    "    ylim = (-2.5, 2.5), ylabel = \"ΔpKa\")"
   ]
  },
  {
   "cell_type": "code",
   "execution_count": null,
   "metadata": {},
   "outputs": [],
   "source": [
    "bar(etiquetas[11:end], dif_res_pka[not_lys][11:end], label = :none,\n",
    "    ylim = (-2.5, 2.5), ylabel = \"ΔpKa\")"
   ]
  },
  {
   "cell_type": "markdown",
   "metadata": {},
   "source": [
    "### Plotteo"
   ]
  },
  {
   "cell_type": "code",
   "execution_count": null,
   "metadata": {},
   "outputs": [],
   "source": [
    "function titration_curve(n, pKa, x)\n",
    "    return (1 / (1 + 10 ^(n*(pKa - x))))\n",
    "end\n",
    "x = collect(1:.1:14);"
   ]
  },
  {
   "cell_type": "code",
   "execution_count": null,
   "metadata": {},
   "outputs": [],
   "source": [
    "i = 1\n",
    "plot(x, titration_curve.(res_hil[i], res_pka[i], x),\n",
    "    label = \"LSQ Fit\",\n",
    "    title = string(titrable_resnames[i], \" \", titrable_resis[i]))\n",
    "\n",
    "scatter!(xdata, deprotonated_fraction[i, :],\n",
    "    label = \"A-\")\n",
    "\n",
    "annotate!((res_pka[i] + 1.5), .5, \n",
    "    Plots.text(string(\"pKa = \", round(res_pka[i], digits = 2))))\n",
    "annotate!((res_pka[i] + 1.2), .4, \n",
    "    Plots.text(string(\"n = \", round(res_hil[i], digits = 2))))"
   ]
  },
  {
   "cell_type": "code",
   "execution_count": null,
   "metadata": {},
   "outputs": [],
   "source": [
    "i = 1\n",
    "plot(x, titration_curve.(res_hil[i], res_pka[i], x),\n",
    "    label = \"LSQ Fit\",\n",
    "    title = string(titrable_resnames[i], \" \", titrable_resis[i]))\n",
    "\n",
    "scatter!(xdata, deprotonated_fraction[i, :],\n",
    "    label = \"A-\")\n",
    "\n",
    "annotate!((res_pka[i] + 1.5), .5, \n",
    "    Plots.text(string(\"pKa = \", round(res_pka[i], digits = 2))))\n",
    "annotate!((res_pka[i] + 1.2), .4, \n",
    "    Plots.text(string(\"n = \", round(res_hil[i], digits = 2))))"
   ]
  }
 ],
 "metadata": {
  "kernelspec": {
   "display_name": "Julia 1.5.0",
   "language": "julia",
   "name": "julia-1.5"
  }
 },
 "nbformat": 4,
 "nbformat_minor": 4
}

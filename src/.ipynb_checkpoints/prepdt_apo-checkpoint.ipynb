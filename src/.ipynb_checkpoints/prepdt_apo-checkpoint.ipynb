{
 "cells": [
  {
   "cell_type": "code",
   "execution_count": 8,
   "metadata": {
    "collapsed": true
   },
   "outputs": [],
   "source": [
    "using DataFrames\n",
    "using Plots, FileIO, DelimitedFiles\n",
    "home = \"/home/german/labo/17/cph_obp/run/apo/pre_pdt/outputs\"\n",
    "ph_range = collect(30:5:75);"
   ]
  },
  {
   "cell_type": "code",
   "execution_count": 12,
   "metadata": {
    "collapsed": true
   },
   "outputs": [
    {
     "ename": "LoadError",
     "evalue": "ArgumentError: Cannot open '/home/german/labo/17/cph_obp/run/apo/pre_pdt/outputs/30/ektot.dat': not a file",
     "output_type": "error",
     "traceback": [
      "ArgumentError: Cannot open '/home/german/labo/17/cph_obp/run/apo/pre_pdt/outputs/30/ektot.dat': not a file",
      "",
      "Stacktrace:",
      " [1] readdlm_auto(::String, ::Char, ::Type{T} where T, ::Char, ::Bool; opts::Base.Iterators.Pairs{Union{},Union{},Tuple{},NamedTuple{(),Tuple{}}}) at /usr/local/julia-1.5.0/usr/share/julia/stdlib/v1.5/DelimitedFiles/src/DelimitedFiles.jl:233",
      " [2] readdlm_auto at /usr/local/julia-1.5.0/usr/share/julia/stdlib/v1.5/DelimitedFiles/src/DelimitedFiles.jl:233 [inlined]",
      " [3] #readdlm#5 at /usr/local/julia-1.5.0/usr/share/julia/stdlib/v1.5/DelimitedFiles/src/DelimitedFiles.jl:170 [inlined]",
      " [4] readdlm at /usr/local/julia-1.5.0/usr/share/julia/stdlib/v1.5/DelimitedFiles/src/DelimitedFiles.jl:170 [inlined]",
      " [5] #readdlm#3 at /usr/local/julia-1.5.0/usr/share/julia/stdlib/v1.5/DelimitedFiles/src/DelimitedFiles.jl:118 [inlined]",
      " [6] readdlm(::String) at /usr/local/julia-1.5.0/usr/share/julia/stdlib/v1.5/DelimitedFiles/src/DelimitedFiles.jl:118",
      " [7] top-level scope at ./In[12]:3",
      " [8] include_string(::Function, ::Module, ::String, ::String) at ./loading.jl:1091"
     ]
    }
   ],
   "source": [
    "for ph in ph_range\n",
    "# Energies\n",
    "    apo_pdt_Ek = readdlm(joinpath(home, string(ph), \"ektot.dat\"));\n",
    "    apo_pdt_Ep = readdlm(joinpath(home, \"eptot.dat\"));\n",
    "    apo_pdt_Etot = readdlm(joinpath(home, \"etot.dat\"));\n",
    "end"
   ]
  },
  {
   "cell_type": "code",
   "execution_count": null,
   "metadata": {
    "collapsed": true
   },
   "outputs": [],
   "source": [
    "\n",
    "df_apo_PDT_E = DataFrame(E=[apo_pdt_Ek[:, 2]; apo_pdt_Ep[:, 2]; apo_pdt_Etot[:, 2]],\n",
    "NSTEP=[apo_pdt_Ek[:, 1]; apo_pdt_Ep[:, 1]; apo_pdt_Etot[:, 1]];\n",
    "Type=repeat([\"Ek\"; \"Ep\"; \"Etot\"], inner=[length(apo_pdt_Ek[:, 1])]));\n",
    "\n",
    "# Temperature\n",
    "apo_pdt_T = readdlm(\"$dir_apo_pdt/data/outputs/temp.dat\");\n",
    "df_apo_PDT_T = DataFrame(Temperature=apo_pdt_T[:, 2],\n",
    "NSTEP=apo_pdt_T[:, 1]);\n",
    "\n",
    "# RMSD \n",
    "apo_pdt_rmsd = readdlm(\"$dir_apo_pdt/data/rmsd_apo\");\n",
    "df_apo_PDT_RMSD = DataFrame(RMSD=apo_pdt_rmsd[:, 2], Frame=apo_pdt_rmsd[:, 1]);"
   ]
  },
  {
   "cell_type": "code",
   "execution_count": null,
   "metadata": {
    "collapsed": true
   },
   "outputs": [],
   "source": [
    "plot(df_apo_PDT_E, Geom.line, x=\"NSTEP\", y=\"E\", color=\"Type\",\n",
    "Guide.title(\"Production\"),\n",
    "Coords.xticks(ticks = ph_range),\n",
    "Theme(minor_label_font_size = 10pt, major_label_font_size = 15pt,\n",
    "    key_title_font_size=20pt, key_label_font_size=20pt))                                                        "
   ]
  },
  {
   "cell_type": "code",
   "execution_count": null,
   "metadata": {
    "collapsed": true
   },
   "outputs": [],
   "source": [
    "plot(df_apo_PDT_T, Geom.line, x=\"NSTEP\", y=\"Temperature\",\n",
    "Guide.title(\"Production\"),\n",
    "Theme(minor_label_font_size = 10pt, major_label_font_size = 15pt,\n",
    "key_title_font_size=20pt, key_label_font_size=20pt))"
   ]
  },
  {
   "cell_type": "code",
   "execution_count": null,
   "metadata": {
    "collapsed": true
   },
   "outputs": [],
   "source": [
    "pdf_apo_PDT_RMSD = plot(df_apo_PDT_RMSD, Geom.line, x=\"Frame\", y=\"RMSD\",\n",
    "Guide.title(\"Production\"),\n",
    "Guide.annotation(compose(compose(context(), text(70000, 3.5, \"frame = 10ps\")), fontsize(15pt), fill(\"black\"))),\n",
    "Theme(minor_label_font_size = 10pt, major_label_font_size = 15pt,\n",
    "key_title_font_size=20pt, key_label_font_size=20pt))"
   ]
  }
 ],
 "metadata": {
  "kernelspec": {
   "display_name": "Julia 1.5.0",
   "language": "julia",
   "name": "julia-1.5"
  },
  "language_info": {
   "file_extension": ".jl",
   "mimetype": "application/julia",
   "name": "julia",
   "version": "1.5.0"
  }
 },
 "nbformat": 4,
 "nbformat_minor": 2
}

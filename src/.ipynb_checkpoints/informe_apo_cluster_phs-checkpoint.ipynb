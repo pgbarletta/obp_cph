{
 "cells": [
  {
   "cell_type": "code",
   "execution_count": null,
   "metadata": {},
   "outputs": [],
   "source": [
    "using DataFrames, FileIO, DelimitedFiles\n",
    "using Plots, Optim, LsqFit, JUMD\n",
    "using Statistics, NamedArrays\n",
    "using Bio3DView, BioStructures"
   ]
  },
  {
   "cell_type": "code",
   "execution_count": null,
   "metadata": {},
   "outputs": [],
   "source": [
    "# Get ready\n",
    "dir_apo_clu = \"/home/pbarletta/labo/20/cph_obp/run/apo/cluster\"\n",
    "\n",
    "nstlim = 19500\n",
    "phs = collect(30:5:75)\n",
    "idx = collect(1:10)\n",
    "pdt_steps = collect(0:1:7)\n",
    "titrable_cnt = 36\n",
    "titrable_resis = [4, 5, 7, 11, 13, 18, 20, 24, 27, 30, 33, 37, 39,\n",
    "    40, 41, 42, 48, 52, 58, 59, 64, 69, 73, 77, 78, 82, 87, 93, 94,\n",
    "    97, 99, 102, 109, 111, 114, 117];\n",
    "titrable_resnames = [\"GL4\", \"GL4\", \"LYS\", \"HIP\", \"GL4\", \"LYS\", \"GL4\", \"AS4\", \"LYS\",\n",
    "    \"AS4\", \"GL4\", \"AS4\", \"GL4\", \"AS4\", \"LYS\", \"LYS\", \"GL4\", \"LYS\",\n",
    "    \"AS4\", \"LYS\", \"LYS\", \"LYS\", \"GL4\", \"AS4\", \"GL4\", \"LYS\", \"AS4\",\n",
    "    \"GL4\", \"GL4\", \"HIP\", \"LYS\", \"LYS\", \"LYS\", \"LYS\", \"LYS\", \"AS4\"];"
   ]
  },
  {
   "cell_type": "markdown",
   "metadata": {},
   "source": [
    "### Orientar a las moléculas como está acá:"
   ]
  },
  {
   "cell_type": "markdown",
   "metadata": {},
   "source": [
    "![OBP](obp.png)"
   ]
  },
  {
   "cell_type": "markdown",
   "metadata": {},
   "source": [
    "## cluster por pH"
   ]
  },
  {
   "cell_type": "markdown",
   "metadata": {},
   "source": [
    "#### ph = 30"
   ]
  },
  {
   "cell_type": "code",
   "execution_count": null,
   "metadata": {},
   "outputs": [],
   "source": [
    "viewstruc(read(joinpath(dir_apo_clu,  string(phs[1], \"ph\"), \"top_cluster.c0.pdb\"), PDB))"
   ]
  },
  {
   "cell_type": "code",
   "execution_count": null,
   "metadata": {},
   "outputs": [],
   "source": [
    "viewstruc(read(joinpath(dir_apo_clu,  string(phs[1], \"ph\"), \"top_cluster.c1.pdb\"), PDB))"
   ]
  },
  {
   "cell_type": "code",
   "execution_count": null,
   "metadata": {},
   "outputs": [],
   "source": [
    "viewstruc(read(joinpath(dir_apo_clu,  string(phs[1], \"ph\"), \"top_cluster.c2.pdb\"), PDB))"
   ]
  },
  {
   "cell_type": "markdown",
   "metadata": {},
   "source": [
    "#### ph = 35"
   ]
  },
  {
   "cell_type": "code",
   "execution_count": null,
   "metadata": {},
   "outputs": [],
   "source": [
    "viewstruc(read(joinpath(dir_apo_clu,  string(phs[2], \"ph\"), \"top_cluster.c0.pdb\"), PDB))"
   ]
  },
  {
   "cell_type": "code",
   "execution_count": null,
   "metadata": {},
   "outputs": [],
   "source": [
    "viewstruc(read(joinpath(dir_apo_clu,  string(phs[2], \"ph\"), \"top_cluster.c1.pdb\"), PDB))"
   ]
  },
  {
   "cell_type": "code",
   "execution_count": null,
   "metadata": {},
   "outputs": [],
   "source": [
    "viewstruc(read(joinpath(dir_apo_clu,  string(phs[2], \"ph\"), \"top_cluster.c2.pdb\"), PDB))"
   ]
  },
  {
   "cell_type": "markdown",
   "metadata": {},
   "source": [
    "#### ph = 40"
   ]
  },
  {
   "cell_type": "code",
   "execution_count": null,
   "metadata": {},
   "outputs": [],
   "source": [
    "viewstruc(read(joinpath(dir_apo_clu,  string(phs[3], \"ph\"), \"top_cluster.c0.pdb\"), PDB))"
   ]
  },
  {
   "cell_type": "code",
   "execution_count": null,
   "metadata": {},
   "outputs": [],
   "source": [
    "viewstruc(read(joinpath(dir_apo_clu,  string(phs[3], \"ph\"), \"top_cluster.c1.pdb\"), PDB))"
   ]
  },
  {
   "cell_type": "code",
   "execution_count": null,
   "metadata": {},
   "outputs": [],
   "source": [
    "viewstruc(read(joinpath(dir_apo_clu,  string(phs[3], \"ph\"), \"top_cluster.c2.pdb\"), PDB))"
   ]
  },
  {
   "cell_type": "markdown",
   "metadata": {},
   "source": [
    "#### ph = 45"
   ]
  },
  {
   "cell_type": "code",
   "execution_count": null,
   "metadata": {},
   "outputs": [],
   "source": [
    "viewstruc(read(joinpath(dir_apo_clu,  string(phs[4], \"ph\"), \"top_cluster.c0.pdb\"), PDB))"
   ]
  },
  {
   "cell_type": "code",
   "execution_count": null,
   "metadata": {},
   "outputs": [],
   "source": [
    "viewstruc(read(joinpath(dir_apo_clu,  string(phs[4], \"ph\"), \"top_cluster.c1.pdb\"), PDB))"
   ]
  },
  {
   "cell_type": "code",
   "execution_count": null,
   "metadata": {},
   "outputs": [],
   "source": [
    "viewstruc(read(joinpath(dir_apo_clu,  string(phs[4], \"ph\"), \"top_cluster.c2.pdb\"), PDB))"
   ]
  },
  {
   "cell_type": "markdown",
   "metadata": {},
   "source": [
    "#### ph = 50"
   ]
  },
  {
   "cell_type": "code",
   "execution_count": null,
   "metadata": {},
   "outputs": [],
   "source": [
    "viewstruc(read(joinpath(dir_apo_clu,  string(phs[5], \"ph\"), \"top_cluster.c0.pdb\"), PDB))"
   ]
  },
  {
   "cell_type": "code",
   "execution_count": null,
   "metadata": {},
   "outputs": [],
   "source": [
    "viewstruc(read(joinpath(dir_apo_clu,  string(phs[5], \"ph\"), \"top_cluster.c1.pdb\"), PDB))"
   ]
  },
  {
   "cell_type": "code",
   "execution_count": null,
   "metadata": {},
   "outputs": [],
   "source": [
    "viewstruc(read(joinpath(dir_apo_clu,  string(phs[5], \"ph\"), \"top_cluster.c2.pdb\"), PDB))"
   ]
  },
  {
   "cell_type": "markdown",
   "metadata": {},
   "source": [
    "#### ph = 55"
   ]
  },
  {
   "cell_type": "code",
   "execution_count": null,
   "metadata": {},
   "outputs": [],
   "source": [
    "viewstruc(read(joinpath(dir_apo_clu,  string(phs[6], \"ph\"), \"top_cluster.c0.pdb\"), PDB))"
   ]
  },
  {
   "cell_type": "code",
   "execution_count": null,
   "metadata": {},
   "outputs": [],
   "source": [
    "viewstruc(read(joinpath(dir_apo_clu,  string(phs[6], \"ph\"), \"top_cluster.c1.pdb\"), PDB))"
   ]
  },
  {
   "cell_type": "code",
   "execution_count": null,
   "metadata": {},
   "outputs": [],
   "source": [
    "viewstruc(read(joinpath(dir_apo_clu,  string(phs[6], \"ph\"), \"top_cluster.c2.pdb\"), PDB))"
   ]
  },
  {
   "cell_type": "markdown",
   "metadata": {},
   "source": [
    "#### ph = 60"
   ]
  },
  {
   "cell_type": "code",
   "execution_count": null,
   "metadata": {},
   "outputs": [],
   "source": [
    "viewstruc(read(joinpath(dir_apo_clu,  string(phs[7], \"ph\"), \"top_cluster.c0.pdb\"), PDB))"
   ]
  },
  {
   "cell_type": "code",
   "execution_count": null,
   "metadata": {},
   "outputs": [],
   "source": [
    "viewstruc(read(joinpath(dir_apo_clu,  string(phs[7], \"ph\"), \"top_cluster.c1.pdb\"), PDB))"
   ]
  },
  {
   "cell_type": "code",
   "execution_count": null,
   "metadata": {},
   "outputs": [],
   "source": [
    "viewstruc(read(joinpath(dir_apo_clu,  string(phs[7], \"ph\"), \"top_cluster.c2.pdb\"), PDB))"
   ]
  },
  {
   "cell_type": "markdown",
   "metadata": {},
   "source": [
    "#### ph = 65"
   ]
  },
  {
   "cell_type": "code",
   "execution_count": null,
   "metadata": {},
   "outputs": [],
   "source": [
    "viewstruc(read(joinpath(dir_apo_clu,  string(phs[8], \"ph\"), \"top_cluster.c0.pdb\"), PDB))"
   ]
  },
  {
   "cell_type": "code",
   "execution_count": null,
   "metadata": {},
   "outputs": [],
   "source": [
    "viewstruc(read(joinpath(dir_apo_clu,  string(phs[8], \"ph\"), \"top_cluster.c1.pdb\"), PDB))"
   ]
  },
  {
   "cell_type": "code",
   "execution_count": null,
   "metadata": {},
   "outputs": [],
   "source": [
    "viewstruc(read(joinpath(dir_apo_clu,  string(phs[8], \"ph\"), \"top_cluster.c2.pdb\"), PDB))"
   ]
  },
  {
   "cell_type": "markdown",
   "metadata": {},
   "source": [
    "#### ph = 70"
   ]
  },
  {
   "cell_type": "code",
   "execution_count": null,
   "metadata": {},
   "outputs": [],
   "source": [
    "viewstruc(read(joinpath(dir_apo_clu,  string(phs[9], \"ph\"), \"top_cluster.c0.pdb\"), PDB))"
   ]
  },
  {
   "cell_type": "code",
   "execution_count": null,
   "metadata": {},
   "outputs": [],
   "source": [
    "viewstruc(read(joinpath(dir_apo_clu,  string(phs[9], \"ph\"), \"top_cluster.c1.pdb\"), PDB))"
   ]
  },
  {
   "cell_type": "code",
   "execution_count": null,
   "metadata": {},
   "outputs": [],
   "source": [
    "viewstruc(read(joinpath(dir_apo_clu,  string(phs[9], \"ph\"), \"top_cluster.c2.pdb\"), PDB))"
   ]
  },
  {
   "cell_type": "markdown",
   "metadata": {},
   "source": [
    "#### ph = 75"
   ]
  },
  {
   "cell_type": "code",
   "execution_count": null,
   "metadata": {},
   "outputs": [],
   "source": [
    "viewstruc(read(joinpath(dir_apo_clu,  string(phs[10], \"ph\"), \"top_cluster.c0.pdb\"), PDB))"
   ]
  },
  {
   "cell_type": "code",
   "execution_count": null,
   "metadata": {},
   "outputs": [],
   "source": [
    "viewstruc(read(joinpath(dir_apo_clu,  string(phs[10], \"ph\"), \"top_cluster.c1.pdb\"), PDB))"
   ]
  },
  {
   "cell_type": "code",
   "execution_count": null,
   "metadata": {},
   "outputs": [],
   "source": [
    "viewstruc(read(joinpath(dir_apo_clu,  string(phs[10], \"ph\"), \"top_cluster.c2.pdb\"), PDB))"
   ]
  }
 ],
 "metadata": {
  "kernelspec": {
   "display_name": "Julia 1.5.0",
   "language": "julia",
   "name": "julia-1.5"
  }
 },
 "nbformat": 4,
 "nbformat_minor": 4
}
